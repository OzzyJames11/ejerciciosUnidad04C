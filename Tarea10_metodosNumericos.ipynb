{
  "cells": [
    {
      "cell_type": "code",
      "execution_count": 1,
      "id": "5c25cc28-f342-4a47-b141-0a25afe9ec42",
      "metadata": {
        "tags": [],
        "id": "5c25cc28-f342-4a47-b141-0a25afe9ec42"
      },
      "outputs": [],
      "source": [
        "%load_ext autoreload\n",
        "import numpy as np\n",
        "from src import multiplicar_matrices, descomposicion_LU, resolver_LU\n",
        "from src import eliminacion_gaussiana_L,eliminacion_gaussiana_U, determinante, inversa"
      ]
    },
    {
      "cell_type": "markdown",
      "id": "06d5fa20-aa02-4577-84ba-34db0bce12a3",
      "metadata": {
        "id": "06d5fa20-aa02-4577-84ba-34db0bce12a3"
      },
      "source": [
        "### Conjunto de Ejercicios"
      ]
    },
    {
      "cell_type": "markdown",
      "id": "a838b90d-6c76-45ad-958b-c11d5389d6fc",
      "metadata": {
        "id": "a838b90d-6c76-45ad-958b-c11d5389d6fc"
      },
      "source": [
        "1. Realice las siguientes multiplicaciones matriz-matriz:\n"
      ]
    },
    {
      "cell_type": "code",
      "execution_count": 8,
      "id": "6241d955-28ec-49ac-94c2-28b330d4db74",
      "metadata": {
        "tags": [],
        "colab": {
          "base_uri": "https://localhost:8080/"
        },
        "id": "6241d955-28ec-49ac-94c2-28b330d4db74",
        "outputId": "c275330f-d341-4cf5-adf9-f907bb22a2c2"
      },
      "outputs": [
        {
          "output_type": "stream",
          "name": "stdout",
          "text": [
            "a) Resultado: \n",
            " [[-4 10]\n",
            " [ 1 15]]\n"
          ]
        }
      ],
      "source": [
        "%autoreload 2\n",
        "A = np.array([[2,-3],[3,-1]])\n",
        "B = np.array([[1,5],[2,0]])\n",
        "C = multiplicar_matrices(A,B)\n",
        "print(\"a) Resultado: \\n\",C)"
      ]
    },
    {
      "cell_type": "code",
      "execution_count": 9,
      "id": "174803de-31b2-4718-8723-92bae595d9b9",
      "metadata": {
        "tags": [],
        "colab": {
          "base_uri": "https://localhost:8080/"
        },
        "id": "174803de-31b2-4718-8723-92bae595d9b9",
        "outputId": "1289f66f-7a30-4002-996f-fb19b78b4ae8"
      },
      "outputs": [
        {
          "output_type": "stream",
          "name": "stdout",
          "text": [
            "b) Resultado:  \n",
            " [[ 11   4  -8]\n",
            " [  6  13 -12]]\n"
          ]
        }
      ],
      "source": [
        "%autoreload 2\n",
        "A = np.array([[2,-3],[3,-1]])\n",
        "B = np.array([[1,5,-4],[-3,2,0]])\n",
        "C = multiplicar_matrices(A,B)\n",
        "print(\"b) Resultado:  \\n\",C)"
      ]
    },
    {
      "cell_type": "code",
      "execution_count": 10,
      "id": "6bf812dc-0ab7-482e-a5b4-ce365b9f3777",
      "metadata": {
        "tags": [],
        "colab": {
          "base_uri": "https://localhost:8080/"
        },
        "id": "6bf812dc-0ab7-482e-a5b4-ce365b9f3777",
        "outputId": "9f2af59e-6cf8-4ea7-ea97-44686f6d9fa4"
      },
      "outputs": [
        {
          "output_type": "stream",
          "name": "stdout",
          "text": [
            "c) Resultado:  \n",
            " [[ -1   5  -3]\n",
            " [  3   4 -11]\n",
            " [ -6  -7  -4]]\n"
          ]
        }
      ],
      "source": [
        "%autoreload 2\n",
        "A = np.array([[2,-3,1],[4,3,0],[5,2,-4]])\n",
        "B = np.array([[0,1,-2],[1,0,-1],[2,3,-2]])\n",
        "C = multiplicar_matrices(A,B)\n",
        "print(\"c) Resultado:  \\n\",C)"
      ]
    },
    {
      "cell_type": "code",
      "execution_count": 11,
      "id": "447ba0d2-663e-4a7c-96d8-737b9e98f5b6",
      "metadata": {
        "tags": [],
        "colab": {
          "base_uri": "https://localhost:8080/"
        },
        "id": "447ba0d2-663e-4a7c-96d8-737b9e98f5b6",
        "outputId": "dc66c855-cb5f-483a-b99c-4925b626723a"
      },
      "outputs": [
        {
          "output_type": "stream",
          "name": "stdout",
          "text": [
            "d) Resultado:  \n",
            " [[ -2   1]\n",
            " [-14   7]\n",
            " [  6   1]]\n"
          ]
        }
      ],
      "source": [
        "%autoreload 2\n",
        "A = np.array([[2,1,2],[-2,3,0],[2,-1,3]])\n",
        "B = np.array([[1,-2],[-4,1],[0,2]])\n",
        "C = multiplicar_matrices(A,B)\n",
        "print(\"d) Resultado:  \\n\",C)"
      ]
    },
    {
      "cell_type": "markdown",
      "id": "2469c920-0865-4e5e-88a4-894db0dd52ea",
      "metadata": {
        "id": "2469c920-0865-4e5e-88a4-894db0dd52ea"
      },
      "source": [
        "2. Determine cuáles de las siguientes matrices son no singulares y calcule la inversa de esas matrices:"
      ]
    },
    {
      "cell_type": "code",
      "execution_count": 12,
      "id": "823f98ef-2032-4f56-af8a-bb3e50ce93f0",
      "metadata": {
        "tags": [],
        "colab": {
          "base_uri": "https://localhost:8080/"
        },
        "id": "823f98ef-2032-4f56-af8a-bb3e50ce93f0",
        "outputId": "e9c795a2-e359-4931-c5da-30ce841f123e"
      },
      "outputs": [
        {
          "output_type": "stream",
          "name": "stdout",
          "text": [
            "El determinante es: 0 \n",
            "Por tanto, la matriz es singular y no posee inversa\n"
          ]
        }
      ],
      "source": [
        "%autoreload 2\n",
        "A = np.array([[4,2,6],[3,0,7],[-2,-1,-3]])\n",
        "det = determinante(A)\n",
        "if(det==0):\n",
        "    print(\"El determinante es:\",det, \"\\nPor tanto, la matriz es singular y no posee inversa\")\n",
        "else:\n",
        "    inv = inversa(A)\n",
        "    print(\"El determinante es:\",det, \"\\nSu matriz inversa es la siguiente:\", inv)"
      ]
    },
    {
      "cell_type": "code",
      "execution_count": 18,
      "id": "8a4ae2e0-160a-4f4e-a025-b25d91d59bfb",
      "metadata": {
        "tags": [],
        "colab": {
          "base_uri": "https://localhost:8080/"
        },
        "id": "8a4ae2e0-160a-4f4e-a025-b25d91d59bfb",
        "outputId": "ebf90ea6-aea7-4ff1-b1c7-5aedba0b4d63"
      },
      "outputs": [
        {
          "output_type": "stream",
          "name": "stdout",
          "text": [
            "El determinante es: -7.999999999999999 \n",
            "Matriz inversa:\n",
            " [[-0.25   0.25   0.25 ]\n",
            " [ 0.625 -0.125 -0.125]\n",
            " [ 0.125 -0.625  0.375]]\n"
          ]
        }
      ],
      "source": [
        "%autoreload 2\n",
        "A = np.array([[1,2,0],[2,1,-1],[3,1,1]])\n",
        "det = determinante(A)\n",
        "if(det==0):\n",
        "    print(\"El determinante es:\",det, \"\\nPor tanto, la matriz es singular y no posee inversa\")\n",
        "else:\n",
        "    inv = inversa(A)\n",
        "    print(\"El determinante es:\",det, \"\\nMatriz inversa:\\n\", inv)"
      ]
    },
    {
      "cell_type": "code",
      "execution_count": 17,
      "id": "e25231d8-020f-4d7b-9fb7-09b5add74c11",
      "metadata": {
        "tags": [],
        "colab": {
          "base_uri": "https://localhost:8080/"
        },
        "id": "e25231d8-020f-4d7b-9fb7-09b5add74c11",
        "outputId": "d7789107-7bbb-4056-80f1-094a62f3ce6c"
      },
      "outputs": [
        {
          "output_type": "stream",
          "name": "stdout",
          "text": [
            "El determinante es: 0 \n",
            "Por tanto, la matriz es singular y no posee inversa\n"
          ]
        }
      ],
      "source": [
        "%autoreload 2\n",
        "A = np.array([[1,1,-1,1],[1,2,-4,-2],[2,1,1,5],[-1,0,-2,-4]])\n",
        "det = determinante(A)\n",
        "if(det==0):\n",
        "    print(\"El determinante es:\",det, \"\\nPor tanto, la matriz es singular y no posee inversa\")\n",
        "else:\n",
        "    inv = inversa(A)\n",
        "    print(\"El determinante es:\",det, \"\\nMatriz inversa:\\n\", inv)"
      ]
    },
    {
      "cell_type": "code",
      "execution_count": 16,
      "id": "d9d0b18b-3d32-46e0-ae5e-3fcd62a48cae",
      "metadata": {
        "tags": [],
        "colab": {
          "base_uri": "https://localhost:8080/"
        },
        "id": "d9d0b18b-3d32-46e0-ae5e-3fcd62a48cae",
        "outputId": "fb2db991-f340-40a3-cf93-38d984409754"
      },
      "outputs": [
        {
          "output_type": "stream",
          "name": "stdout",
          "text": [
            "El determinante es: 27.999999999999993 \n",
            "Matriz inversa:\n",
            " [[ 0.25        0.          0.          0.        ]\n",
            " [-0.21428571  0.14285714  0.          0.        ]\n",
            " [ 0.10714286 -1.57142857  1.          0.        ]\n",
            " [-0.5         1.         -1.          1.        ]]\n"
          ]
        }
      ],
      "source": [
        "%autoreload 2\n",
        "A = np.array([[4,0,0,0],[6,7,0,0],[9,11,1,0],[5,4,1,1]])\n",
        "det = determinante(A)\n",
        "if(det==0):\n",
        "    print(\"El determinante es:\",det, \"\\nPor tanto, la matriz es singular y no posee inversa\")\n",
        "else:\n",
        "    inv = inversa(A)\n",
        "    print(\"El determinante es:\",det, \"\\nMatriz inversa:\\n\", inv)"
      ]
    },
    {
      "cell_type": "markdown",
      "id": "17d49c51-088a-4191-98fb-8fb457eb4246",
      "metadata": {
        "id": "17d49c51-088a-4191-98fb-8fb457eb4246"
      },
      "source": [
        "3. Resuelva los sistemas lineales 4 x 4 que tienen la misma matriz de coeficientes:\n"
      ]
    },
    {
      "cell_type": "code",
      "execution_count": 19,
      "id": "82cec800-c3f6-4e65-8f3a-0f5c5016188a",
      "metadata": {
        "tags": [],
        "colab": {
          "base_uri": "https://localhost:8080/"
        },
        "id": "82cec800-c3f6-4e65-8f3a-0f5c5016188a",
        "outputId": "822b8e42-ac29-4474-d6a8-ffba66dcd49f"
      },
      "outputs": [
        {
          "output_type": "stream",
          "name": "stdout",
          "text": [
            "Matriz L:\n",
            " [[ 1.    0.    0.    0.  ]\n",
            " [ 1.    1.    0.    0.  ]\n",
            " [ 2.    3.    1.    0.  ]\n",
            " [ 0.   -1.   -0.25  1.  ]]\n",
            "Matriz U:\n",
            " [[ 1. -1.  2. -1.]\n",
            " [ 0.  1. -3.  2.]\n",
            " [ 0.  0.  8. -8.]\n",
            " [ 0.  0.  0. -1.]]\n"
          ]
        }
      ],
      "source": [
        "%autoreload 2\n",
        "A = [[1,-1,2,-1],[1,0,-1,1],[2,1,3,-4],[0,-1,1,-1]]\n",
        "L,U = descomposicion_LU(A)\n",
        "print(\"Matriz L:\\n\",L)\n",
        "print(\"Matriz U:\\n\",U)"
      ]
    },
    {
      "cell_type": "code",
      "execution_count": 38,
      "id": "cd93535c-d6a8-4878-b05f-ae1513c87c5a",
      "metadata": {
        "tags": [],
        "colab": {
          "base_uri": "https://localhost:8080/"
        },
        "id": "cd93535c-d6a8-4878-b05f-ae1513c87c5a",
        "outputId": "45920817-1f8d-40e4-ba02-557c56fae912"
      },
      "outputs": [
        {
          "output_type": "stream",
          "name": "stdout",
          "text": [
            "Calculando y\n",
            "y\n",
            "[ 6. -8.  4.]\n",
            "Verificación Ly=b:\n",
            "[ 6.  4. -2.]\n",
            "Calculando x\n",
            "x\n",
            "[-3.33333333  4.66666667  1.33333333]\n",
            "Verificación Ux=y:\n",
            "[ 6. -8.  4.]\n"
          ]
        }
      ],
      "source": [
        "%autoreload 2\n",
        "b_1 = [6,4,-2,5]\n",
        "sol_1 = resolver_LU(L,U,b_1)\n"
      ]
    },
    {
      "cell_type": "code",
      "execution_count": 39,
      "id": "e88959c8-eb05-4105-aa5e-23ecbc0fda0d",
      "metadata": {
        "tags": [],
        "colab": {
          "base_uri": "https://localhost:8080/"
        },
        "id": "e88959c8-eb05-4105-aa5e-23ecbc0fda0d",
        "outputId": "77df0778-1880-4295-9dfe-f23a8ee1dd67"
      },
      "outputs": [
        {
          "output_type": "stream",
          "name": "stdout",
          "text": [
            "Calculando y\n",
            "y\n",
            "[ 1. -1.  3.]\n",
            "Verificación Ly=b:\n",
            "[1. 1. 2.]\n",
            "Calculando x\n",
            "x\n",
            "[-0.5  1.   1. ]\n",
            "Verificación Ux=y:\n",
            "[ 1. -1.  3.]\n"
          ]
        }
      ],
      "source": [
        "%autoreload 2\n",
        "b_2 = [1,1,2,-1]\n",
        "sol_2 = resolver_LU(L,U,b_2)"
      ]
    },
    {
      "cell_type": "markdown",
      "id": "84d2cb9e-c462-4465-b307-b3ec87c71df9",
      "metadata": {
        "id": "84d2cb9e-c462-4465-b307-b3ec87c71df9"
      },
      "source": [
        "Por tanto, la soluciones obtenidas son: $sol_1 = [3,-6,-2,-1]$ y $sol_2 = [1,1,1,1]$"
      ]
    },
    {
      "cell_type": "markdown",
      "id": "1659a3d9-1474-4eaa-8dd5-9a4018e49dc7",
      "metadata": {
        "id": "1659a3d9-1474-4eaa-8dd5-9a4018e49dc7"
      },
      "source": [
        "4. Encuentre los valores de A que hacen que la siguiente matriz sea singular"
      ]
    },
    {
      "cell_type": "markdown",
      "id": "1de0d35b-db69-4f53-be46-58aee615d6a5",
      "metadata": {
        "id": "1de0d35b-db69-4f53-be46-58aee615d6a5"
      },
      "source": [
        "5. Resuelva los siguientes sistemas lineales:"
      ]
    },
    {
      "cell_type": "code",
      "execution_count": 37,
      "id": "cb3770f4-7af5-4f28-bf94-2e0fd8c48a15",
      "metadata": {
        "tags": [],
        "colab": {
          "base_uri": "https://localhost:8080/"
        },
        "id": "cb3770f4-7af5-4f28-bf94-2e0fd8c48a15",
        "outputId": "349a95b4-3646-47ce-8d45-6a1976fdab8d"
      },
      "outputs": [
        {
          "output_type": "stream",
          "name": "stdout",
          "text": [
            "Calculando y\n",
            "y\n",
            "[ 2. -5.  3.]\n",
            "Verificación Ly=b:\n",
            "[ 2. -1.  1.]\n",
            "Calculando x\n",
            "x\n",
            "[-3.  3.  1.]\n",
            "Verificación Ux=y:\n",
            "[ 2. -5.  3.]\n"
          ]
        }
      ],
      "source": [
        "%autoreload 2\n",
        "L = np.array([[1,0,0],[2,1,0],[-1,0,1]])\n",
        "U = np.array([[2,3,-1],[0,-2,1],[0,0,3]])\n",
        "b = [2,-1,1]\n",
        "resolver_LU(L,U,b)"
      ]
    },
    {
      "cell_type": "code",
      "execution_count": null,
      "id": "66e69404-a8be-4937-a4e5-e132f124f1ac",
      "metadata": {
        "tags": [],
        "id": "66e69404-a8be-4937-a4e5-e132f124f1ac",
        "outputId": "99f8e1b6-ffce-4634-fc7d-ab86cb391178"
      },
      "outputs": [
        {
          "name": "stdout",
          "output_type": "stream",
          "text": [
            "Calculando y\n",
            "y\n",
            "[-0.5  2.5  3.5]\n",
            "Verificación Ly=b:\n",
            "[-1.  3.  0.]\n",
            "Calculando x\n",
            "x\n",
            "[ 0.5 -4.5  3.5]\n",
            "Verificación Ux=y:\n",
            "[-0.5  2.5  3.5]\n"
          ]
        }
      ],
      "source": [
        "%autoreload 2\n",
        "L = np.array([[2,0,0],[-1,1,0],[3,2,-1]])\n",
        "U = np.array([[1,1,1],[0,1,2],[0,0,1]])\n",
        "b = [-1,3,0]\n",
        "resolver_LU(L,U,b)"
      ]
    },
    {
      "cell_type": "markdown",
      "id": "dfcf739e-331e-4e70-bdff-44cb507b2d16",
      "metadata": {
        "id": "dfcf739e-331e-4e70-bdff-44cb507b2d16"
      },
      "source": [
        "6. Factorice las siguientes matrices en la descomposición LU mediante el algoritmo de factorización LU con $l_{ii} = 1$ para todas las i."
      ]
    },
    {
      "cell_type": "code",
      "execution_count": 25,
      "id": "581edeea-a498-4222-80f2-7d0a79f3e2ae",
      "metadata": {
        "tags": [],
        "colab": {
          "base_uri": "https://localhost:8080/"
        },
        "id": "581edeea-a498-4222-80f2-7d0a79f3e2ae",
        "outputId": "2fb6c7a4-b0ef-4897-95e0-de0408a4c18c"
      },
      "outputs": [
        {
          "output_type": "stream",
          "name": "stdout",
          "text": [
            "Matriz L:\n",
            " [[1.  0.  0. ]\n",
            " [1.5 1.  0. ]\n",
            " [1.5 1.  1. ]]\n",
            "Matriz U:\n",
            " [[ 2.  -1.   1. ]\n",
            " [ 0.   4.5  7.5]\n",
            " [ 0.   0.  -4. ]]\n"
          ]
        }
      ],
      "source": [
        "%autoreload 2\n",
        "A = [[2,-1,1],[3,3,9],[3,3,5]]\n",
        "L,U = descomposicion_LU(A)\n",
        "print(\"Matriz L:\\n\",L)\n",
        "print(\"Matriz U:\\n\",U)"
      ]
    },
    {
      "cell_type": "code",
      "execution_count": 26,
      "id": "48d82970-8b27-472e-924d-682d8c2c54cb",
      "metadata": {
        "tags": [],
        "colab": {
          "base_uri": "https://localhost:8080/"
        },
        "id": "48d82970-8b27-472e-924d-682d8c2c54cb",
        "outputId": "8fe759c9-e760-49f9-91b9-7e9c31856645"
      },
      "outputs": [
        {
          "output_type": "stream",
          "name": "stdout",
          "text": [
            "Matriz L:\n",
            " [[ 1.          0.          0.        ]\n",
            " [-2.10671937  1.          0.        ]\n",
            " [ 3.06719368  1.19775553  1.        ]]\n",
            "Matriz U:\n",
            " [[ 1.012      -2.132       3.104     ]\n",
            " [ 0.         -0.39552569 -0.47374308]\n",
            " [ 0.          0.         -8.93914077]]\n"
          ]
        }
      ],
      "source": [
        "%autoreload 2\n",
        "B = [[1.012,-2.132,3.104],[-2.132,4.096,-7.013],[3.104,-7.013,0.014]]\n",
        "L,U = descomposicion_LU(B)\n",
        "print(\"Matriz L:\\n\",L)\n",
        "print(\"Matriz U:\\n\",U)"
      ]
    },
    {
      "cell_type": "code",
      "execution_count": 27,
      "id": "ba94521c-59f0-4f47-91aa-8a9a161f2fd4",
      "metadata": {
        "tags": [],
        "colab": {
          "base_uri": "https://localhost:8080/"
        },
        "id": "ba94521c-59f0-4f47-91aa-8a9a161f2fd4",
        "outputId": "76ef3e1e-8122-4d9a-c0b6-df51d42611e2"
      },
      "outputs": [
        {
          "output_type": "stream",
          "name": "stdout",
          "text": [
            "Matriz L:\n",
            " [[ 1.          0.          0.          0.        ]\n",
            " [ 0.5         1.          0.          0.        ]\n",
            " [ 0.         -2.          1.          0.        ]\n",
            " [ 1.         -1.33333333  2.          1.        ]]\n",
            "Matriz U:\n",
            " [[2.  0.  0.  0. ]\n",
            " [0.  1.5 0.  0. ]\n",
            " [0.  0.  0.5 0. ]\n",
            " [0.  0.  0.  1. ]]\n"
          ]
        }
      ],
      "source": [
        "%autoreload 2\n",
        "C = [[2,0,0,0],[1,1.5,0,0],[0,-3,0.5,0],[2,-2,1,1]]\n",
        "L,U = descomposicion_LU(C)\n",
        "print(\"Matriz L:\\n\",L)\n",
        "print(\"Matriz U:\\n\",U)"
      ]
    },
    {
      "cell_type": "code",
      "execution_count": 28,
      "id": "4c102a91-6a6d-4b6c-980b-1e5d559d0076",
      "metadata": {
        "tags": [],
        "colab": {
          "base_uri": "https://localhost:8080/"
        },
        "id": "4c102a91-6a6d-4b6c-980b-1e5d559d0076",
        "outputId": "0d27fca8-cc30-4fd3-90cc-2431a7292775"
      },
      "outputs": [
        {
          "output_type": "stream",
          "name": "stdout",
          "text": [
            "Matriz L:\n",
            " [[ 1.          0.          0.          0.        ]\n",
            " [-1.84919103  1.          0.          0.        ]\n",
            " [-0.45964332 -0.25012194  1.          0.        ]\n",
            " [ 2.76866152 -0.30794361 -5.35228302  1.        ]]\n",
            "Matriz U:\n",
            " [[ 2.17560000e+00  4.02310000e+00 -2.17320000e+00  5.19670000e+00]\n",
            " [ 0.00000000e+00  1.34394804e+01 -4.01866194e+00  1.08069910e+01]\n",
            " [ 0.00000000e+00  4.44089210e-16 -8.92952394e-01  5.09169403e+00]\n",
            " [ 0.00000000e+00  0.00000000e+00  0.00000000e+00  1.20361280e+01]]\n"
          ]
        }
      ],
      "source": [
        "%autoreload 2\n",
        "D = [[2.1756,4.0231,-2.1732,5.1967],[-4.0231,6.0000,0,1.1973],\n",
        "     [-1.0000,-5.2107,1.1111,0],[6.0235,7.0000,0,-4.1561]]\n",
        "L,U = descomposicion_LU(D)\n",
        "print(\"Matriz L:\\n\",L)\n",
        "print(\"Matriz U:\\n\",U)"
      ]
    },
    {
      "cell_type": "markdown",
      "id": "e32becf1-7b84-4a86-a55b-b4df3b4c81f6",
      "metadata": {
        "id": "e32becf1-7b84-4a86-a55b-b4df3b4c81f6"
      },
      "source": [
        "7. Modifique el algoritmo de eliminación gaussiana de tal forma que se pueda utilizar para resolver un sistema lineal usando la descomposición LU y, a continuación, resuelva los siguientes sistemas lineales."
      ]
    },
    {
      "cell_type": "code",
      "execution_count": 29,
      "id": "2604291b-15e1-402e-bffb-ef94fe5d6ef7",
      "metadata": {
        "tags": [],
        "colab": {
          "base_uri": "https://localhost:8080/"
        },
        "id": "2604291b-15e1-402e-bffb-ef94fe5d6ef7",
        "outputId": "f51ae217-5280-4f0c-9814-046ecb7ec739"
      },
      "outputs": [
        {
          "output_type": "stream",
          "name": "stdout",
          "text": [
            "\n",
            "Matriz L:\n",
            " [[1.  0.  0. ]\n",
            " [1.5 1.  0. ]\n",
            " [1.5 1.  1. ]]\n",
            "\n",
            "Matriz U:\n",
            " [[ 2.  -1.   1. ]\n",
            " [ 0.   4.5  7.5]\n",
            " [ 0.   0.  -4. ]]\n",
            "\n",
            "[[ 1.   0.   0.   1. ]\n",
            " [ 0.   1.   0.  -1.5]\n",
            " [ 1.5  1.   1.   4. ]]\n",
            "\n",
            "[[ 1.   0.   0.   1. ]\n",
            " [ 0.   1.   0.  -1.5]\n",
            " [ 0.   1.   1.   2.5]]\n",
            "\n",
            "[[ 1.   0.   0.   1. ]\n",
            " [ 0.   1.   0.  -1.5]\n",
            " [ 0.   0.   1.   4. ]]\n",
            "\n",
            "Valor de y: [ 1.  -1.5  4. ] \n",
            "\n",
            "[[ 2.  -1.   1.   1. ]\n",
            " [ 0.   4.5  7.5 -1.5]\n",
            " [ 0.   0.  -4.   4. ]]\n",
            "\n",
            "[[ 2.  -1.   1.   1. ]\n",
            " [ 0.   4.5  0.   6. ]\n",
            " [ 0.   0.  -4.   4. ]]\n",
            "\n",
            "[[ 2.  -1.   0.   2. ]\n",
            " [ 0.   4.5  0.   6. ]\n",
            " [ 0.   0.  -4.   4. ]]\n",
            "\n",
            "[[ 2.          0.          0.          3.33333333]\n",
            " [ 0.          4.5         0.          6.        ]\n",
            " [ 0.          0.         -4.          4.        ]]\n",
            "\n",
            "Valor de la solución x: [ 1.6666666  1.3333334 -1.       ]\n"
          ]
        }
      ],
      "source": [
        "%autoreload 2\n",
        "A = [[2,-1,1],[3,3,9],[3,3,5]]\n",
        "b = [1,0,4]\n",
        "L,U = descomposicion_LU(A)\n",
        "print(\"\\nMatriz L:\\n\",L)\n",
        "print(\"\\nMatriz U:\\n\",U)\n",
        "y = eliminacion_gaussiana_L(L,b)\n",
        "print(\"\\nValor de y:\", y,\"\\n\")\n",
        "x = eliminacion_gaussiana_U(U,y)\n",
        "print(\"\\nValor de la solución x:\", x)"
      ]
    },
    {
      "cell_type": "code",
      "execution_count": 30,
      "id": "63cdf079-c4c8-46f2-8fbd-1fad298145ca",
      "metadata": {
        "tags": [],
        "colab": {
          "base_uri": "https://localhost:8080/"
        },
        "id": "63cdf079-c4c8-46f2-8fbd-1fad298145ca",
        "outputId": "8d12ba4b-754a-469a-e9c8-b72d57b54ad6"
      },
      "outputs": [
        {
          "output_type": "stream",
          "name": "stdout",
          "text": [
            "\n",
            "Matriz L:\n",
            " [[ 1.          0.          0.        ]\n",
            " [-2.10671937  1.          0.        ]\n",
            " [ 3.06719368  1.19775553  1.        ]]\n",
            "\n",
            "Matriz U:\n",
            " [[ 1.012      -2.132       3.104     ]\n",
            " [ 0.         -0.39552569 -0.47374308]\n",
            " [ 0.          0.         -8.93914077]]\n",
            "\n",
            "[[ 1.          0.          0.          1.984     ]\n",
            " [ 0.          1.          0.         -0.86926877]\n",
            " [ 3.06719368  1.19775553  1.         -3.895     ]]\n",
            "\n",
            "[[ 1.          0.          0.          1.984     ]\n",
            " [ 0.          1.          0.         -0.86926877]\n",
            " [ 0.          1.19775553  1.         -9.98031225]]\n",
            "\n",
            "[[ 1.          0.          0.          1.984     ]\n",
            " [ 0.          1.          0.         -0.86926877]\n",
            " [ 0.          0.          1.         -8.93914077]]\n",
            "\n",
            "Valor de y: [ 1.984     -0.8692688 -8.93914  ] \n",
            "\n",
            "[[ 1.012      -2.132       3.104       1.98399997]\n",
            " [ 0.         -0.39552569 -0.47374308 -0.86926877]\n",
            " [ 0.          0.         -8.93914077 -8.93914032]]\n",
            "\n",
            "[[ 1.012      -2.132       3.104       1.98399997]\n",
            " [ 0.         -0.39552569  0.         -0.39552572]\n",
            " [ 0.          0.         -8.93914077 -8.93914032]]\n",
            "\n",
            "[[ 1.012      -2.132       0.         -1.11999987]\n",
            " [ 0.         -0.39552569  0.         -0.39552572]\n",
            " [ 0.          0.         -8.93914077 -8.93914032]]\n",
            "\n",
            "[[ 1.012       0.          0.          1.01200026]\n",
            " [ 0.         -0.39552569  0.         -0.39552572]\n",
            " [ 0.          0.         -8.93914077 -8.93914032]]\n",
            "\n",
            "Valor de la solución x: [1.0000002  1.0000001  0.99999994]\n"
          ]
        }
      ],
      "source": [
        "%autoreload 2\n",
        "A = [[1.012,-2.132,3.104],[-2.132,4.096,-7.013],[3.104,-7.013,0.014]]\n",
        "b = [1.984,-5.049,-3.895]\n",
        "L,U = descomposicion_LU(A)\n",
        "print(\"\\nMatriz L:\\n\",L)\n",
        "print(\"\\nMatriz U:\\n\",U)\n",
        "y = eliminacion_gaussiana_L(L,b)\n",
        "print(\"\\nValor de y:\", y,\"\\n\")\n",
        "x = eliminacion_gaussiana_U(U,y)\n",
        "print(\"\\nValor de la solución x:\", x)"
      ]
    },
    {
      "cell_type": "code",
      "execution_count": 31,
      "id": "d05046ee-8b02-43ec-859a-76430116af07",
      "metadata": {
        "tags": [],
        "colab": {
          "base_uri": "https://localhost:8080/"
        },
        "id": "d05046ee-8b02-43ec-859a-76430116af07",
        "outputId": "12df884d-0d0e-48e3-d47c-e540076b44f7"
      },
      "outputs": [
        {
          "output_type": "stream",
          "name": "stdout",
          "text": [
            "\n",
            "Matriz L:\n",
            " [[ 1.          0.          0.          0.        ]\n",
            " [ 0.5         1.          0.          0.        ]\n",
            " [ 0.         -2.          1.          0.        ]\n",
            " [ 1.         -1.33333333  2.          1.        ]]\n",
            "\n",
            "Matriz U:\n",
            " [[2.  0.  0.  0. ]\n",
            " [0.  1.5 0.  0. ]\n",
            " [0.  0.  0.5 0. ]\n",
            " [0.  0.  0.  1. ]]\n",
            "\n",
            "[[ 1.          0.          0.          0.          3.        ]\n",
            " [ 0.          1.          0.          0.          3.        ]\n",
            " [ 0.         -2.          1.          0.         -6.6       ]\n",
            " [ 1.         -1.33333333  2.          1.          0.8       ]]\n",
            "\n",
            "[[ 1.          0.          0.          0.          3.        ]\n",
            " [ 0.          1.          0.          0.          3.        ]\n",
            " [ 0.         -2.          1.          0.         -6.6       ]\n",
            " [ 1.         -1.33333333  2.          1.          0.8       ]]\n",
            "\n",
            "[[ 1.          0.          0.          0.          3.        ]\n",
            " [ 0.          1.          0.          0.          3.        ]\n",
            " [ 0.         -2.          1.          0.         -6.6       ]\n",
            " [ 0.         -1.33333333  2.          1.         -2.2       ]]\n",
            "\n",
            "[[ 1.          0.          0.          0.          3.        ]\n",
            " [ 0.          1.          0.          0.          3.        ]\n",
            " [ 0.          0.          1.          0.         -0.6       ]\n",
            " [ 0.         -1.33333333  2.          1.         -2.2       ]]\n",
            "\n",
            "[[ 1.   0.   0.   0.   3. ]\n",
            " [ 0.   1.   0.   0.   3. ]\n",
            " [ 0.   0.   1.   0.  -0.6]\n",
            " [ 0.   0.   2.   1.   1.8]]\n",
            "\n",
            "[[ 1.   0.   0.   0.   3. ]\n",
            " [ 0.   1.   0.   0.   3. ]\n",
            " [ 0.   0.   1.   0.  -0.6]\n",
            " [ 0.   0.   0.   1.   3. ]]\n",
            "\n",
            "Valor de y: [ 3.   3.  -0.6  3. ] \n",
            "\n",
            "[[ 2.          0.          0.          0.          3.        ]\n",
            " [ 0.          1.5         0.          0.          3.        ]\n",
            " [ 0.          0.          0.5         0.         -0.60000002]\n",
            " [ 0.          0.          0.          1.          3.        ]]\n",
            "\n",
            "[[ 2.          0.          0.          0.          3.        ]\n",
            " [ 0.          1.5         0.          0.          3.        ]\n",
            " [ 0.          0.          0.5         0.         -0.60000002]\n",
            " [ 0.          0.          0.          1.          3.        ]]\n",
            "\n",
            "[[ 2.          0.          0.          0.          3.        ]\n",
            " [ 0.          1.5         0.          0.          3.        ]\n",
            " [ 0.          0.          0.5         0.         -0.60000002]\n",
            " [ 0.          0.          0.          1.          3.        ]]\n",
            "\n",
            "[[ 2.          0.          0.          0.          3.        ]\n",
            " [ 0.          1.5         0.          0.          3.        ]\n",
            " [ 0.          0.          0.5         0.         -0.60000002]\n",
            " [ 0.          0.          0.          1.          3.        ]]\n",
            "\n",
            "[[ 2.          0.          0.          0.          3.        ]\n",
            " [ 0.          1.5         0.          0.          3.        ]\n",
            " [ 0.          0.          0.5         0.         -0.60000002]\n",
            " [ 0.          0.          0.          1.          3.        ]]\n",
            "\n",
            "[[ 2.          0.          0.          0.          3.        ]\n",
            " [ 0.          1.5         0.          0.          3.        ]\n",
            " [ 0.          0.          0.5         0.         -0.60000002]\n",
            " [ 0.          0.          0.          1.          3.        ]]\n",
            "\n",
            "[[ 2.          0.          0.          0.          3.        ]\n",
            " [ 0.          1.5         0.          0.          3.        ]\n",
            " [ 0.          0.          0.5         0.         -0.60000002]\n",
            " [ 0.          0.          0.          1.          3.        ]]\n",
            "\n",
            "Valor de la solución x: [ 1.5  2.  -1.2  3. ]\n"
          ]
        }
      ],
      "source": [
        "%autoreload 2\n",
        "A = [[2,0,0,0],[1,1.5,0,0],[0,-3,0.5,0],[2,-2,1,1]]\n",
        "b = [3,4.5,-6.6,0.8]\n",
        "L,U = descomposicion_LU(A)\n",
        "print(\"\\nMatriz L:\\n\",L)\n",
        "print(\"\\nMatriz U:\\n\",U)\n",
        "y = eliminacion_gaussiana_L(L,b)\n",
        "print(\"\\nValor de y:\", y,\"\\n\")\n",
        "x = eliminacion_gaussiana_U(U,y)\n",
        "print(\"\\nValor de la solución x:\", x)"
      ]
    },
    {
      "cell_type": "code",
      "execution_count": 32,
      "id": "6f300037-c139-43a9-8986-52fecf756eb2",
      "metadata": {
        "tags": [],
        "colab": {
          "base_uri": "https://localhost:8080/"
        },
        "id": "6f300037-c139-43a9-8986-52fecf756eb2",
        "outputId": "930abe72-df8b-49f3-c9ef-c03c2b04e16a"
      },
      "outputs": [
        {
          "output_type": "stream",
          "name": "stdout",
          "text": [
            "\n",
            "Matriz L:\n",
            " [[ 1.          0.          0.          0.        ]\n",
            " [-1.84919103  1.          0.          0.        ]\n",
            " [-0.45964332 -0.25012194  1.          0.        ]\n",
            " [ 2.76866152 -0.30794361 -5.35228302  1.        ]]\n",
            "\n",
            "Matriz U:\n",
            " [[ 2.17560000e+00  4.02310000e+00 -2.17320000e+00  5.19670000e+00]\n",
            " [ 0.00000000e+00  1.34394804e+01 -4.01866194e+00  1.08069910e+01]\n",
            " [ 0.00000000e+00  4.44089210e-16 -8.92952394e-01  5.09169403e+00]\n",
            " [ 0.00000000e+00  0.00000000e+00  0.00000000e+00  1.20361280e+01]]\n",
            "\n",
            "[[ 1.          0.          0.          0.         17.102     ]\n",
            " [ 0.          1.          0.          0.         25.46556496]\n",
            " [-0.45964332 -0.25012194  1.          0.          3.0004    ]\n",
            " [ 2.76866152 -0.30794361 -5.35228302  1.          0.        ]]\n",
            "\n",
            "[[ 1.          0.          0.          0.         17.102     ]\n",
            " [ 0.          1.          0.          0.         25.46556496]\n",
            " [ 0.         -0.25012194  1.          0.         10.86122   ]\n",
            " [ 2.76866152 -0.30794361 -5.35228302  1.          0.        ]]\n",
            "\n",
            "[[  1.           0.           0.           0.          17.102     ]\n",
            " [  0.           1.           0.           0.          25.46556496]\n",
            " [  0.          -0.25012194   1.           0.          10.86122   ]\n",
            " [  0.          -0.30794361  -5.35228302   1.         -47.34964929]]\n",
            "\n",
            "[[  1.           0.           0.           0.          17.102     ]\n",
            " [  0.           1.           0.           0.          25.46556496]\n",
            " [  0.           0.           1.           0.          17.23071662]\n",
            " [  0.          -0.30794361  -5.35228302   1.         -47.34964929]]\n",
            "\n",
            "[[  1.           0.           0.           0.          17.102     ]\n",
            " [  0.           1.           0.           0.          25.46556496]\n",
            " [  0.           0.           1.           0.          17.23071662]\n",
            " [  0.           0.          -5.35228302   1.         -39.50769122]]\n",
            "\n",
            "[[ 1.          0.          0.          0.         17.102     ]\n",
            " [ 0.          1.          0.          0.         25.46556496]\n",
            " [ 0.          0.          1.          0.         17.23071662]\n",
            " [ 0.          0.          0.          1.         52.71598078]]\n",
            "\n",
            "Valor de y: [17.102    25.465565 17.230717 52.71598 ] \n",
            "\n",
            "[[ 2.17560000e+00  4.02310000e+00 -2.17320000e+00  5.19670000e+00\n",
            "   1.71019993e+01]\n",
            " [ 0.00000000e+00  1.34394804e+01 -4.01866194e+00  1.08069910e+01\n",
            "   2.54655647e+01]\n",
            " [ 0.00000000e+00  4.44089210e-16 -8.92952394e-01  5.09169403e+00\n",
            "   1.72307167e+01]\n",
            " [ 0.00000000e+00  0.00000000e+00  0.00000000e+00  1.20361280e+01\n",
            "   5.27159805e+01]]\n",
            "\n",
            "[[ 2.17560000e+00  4.02310000e+00 -2.17320000e+00  5.19670000e+00\n",
            "   1.71019993e+01]\n",
            " [ 0.00000000e+00  1.34394804e+01 -4.01866194e+00  1.08069910e+01\n",
            "   2.54655647e+01]\n",
            " [ 0.00000000e+00  4.44089210e-16 -8.92952394e-01  0.00000000e+00\n",
            "  -5.06994697e+00]\n",
            " [ 0.00000000e+00  0.00000000e+00  0.00000000e+00  1.20361280e+01\n",
            "   5.27159805e+01]]\n",
            "\n",
            "[[ 2.17560000e+00  4.02310000e+00 -2.17320000e+00  5.19670000e+00\n",
            "   1.71019993e+01]\n",
            " [ 0.00000000e+00  1.34394804e+01 -4.01866194e+00  0.00000000e+00\n",
            "  -2.18670265e+01]\n",
            " [ 0.00000000e+00  4.44089210e-16 -8.92952394e-01  0.00000000e+00\n",
            "  -5.06994697e+00]\n",
            " [ 0.00000000e+00  0.00000000e+00  0.00000000e+00  1.20361280e+01\n",
            "   5.27159805e+01]]\n",
            "\n",
            "[[ 2.17560000e+00  4.02310000e+00 -2.17320000e+00  0.00000000e+00\n",
            "  -5.65857084e+00]\n",
            " [ 0.00000000e+00  1.34394804e+01 -4.01866194e+00  0.00000000e+00\n",
            "  -2.18670265e+01]\n",
            " [ 0.00000000e+00  4.44089210e-16 -8.92952394e-01  0.00000000e+00\n",
            "  -5.06994697e+00]\n",
            " [ 0.00000000e+00  0.00000000e+00  0.00000000e+00  1.20361280e+01\n",
            "   5.27159805e+01]]\n",
            "\n",
            "[[ 2.17560000e+00  4.02310000e+00 -2.17320000e+00  0.00000000e+00\n",
            "  -5.65857084e+00]\n",
            " [ 0.00000000e+00  1.34394804e+01  0.00000000e+00  0.00000000e+00\n",
            "   9.49870688e-01]\n",
            " [ 0.00000000e+00  4.44089210e-16 -8.92952394e-01  0.00000000e+00\n",
            "  -5.06994697e+00]\n",
            " [ 0.00000000e+00  0.00000000e+00  0.00000000e+00  1.20361280e+01\n",
            "   5.27159805e+01]]\n",
            "\n",
            "[[ 2.17560000e+00  4.02310000e+00  0.00000000e+00  0.00000000e+00\n",
            "   6.68028266e+00]\n",
            " [ 0.00000000e+00  1.34394804e+01  0.00000000e+00  0.00000000e+00\n",
            "   9.49870688e-01]\n",
            " [ 0.00000000e+00  4.44089210e-16 -8.92952394e-01  0.00000000e+00\n",
            "  -5.06994697e+00]\n",
            " [ 0.00000000e+00  0.00000000e+00  0.00000000e+00  1.20361280e+01\n",
            "   5.27159805e+01]]\n",
            "\n",
            "[[ 2.17560000e+00  0.00000000e+00  0.00000000e+00  0.00000000e+00\n",
            "   6.39593946e+00]\n",
            " [ 0.00000000e+00  1.34394804e+01  0.00000000e+00  0.00000000e+00\n",
            "   9.49870688e-01]\n",
            " [ 0.00000000e+00  4.44089210e-16 -8.92952394e-01  0.00000000e+00\n",
            "  -5.06994697e+00]\n",
            " [ 0.00000000e+00  0.00000000e+00  0.00000000e+00  1.20361280e+01\n",
            "   5.27159805e+01]]\n",
            "\n",
            "Valor de la solución x: [2.9398508  0.07067764 5.677735   4.3798122 ]\n"
          ]
        }
      ],
      "source": [
        "%autoreload 2\n",
        "A = [[2.1756,4.0231,-2.1732,5.1967],[-4.0231,6.0000,0,1.1973],[-1,-5.2107,1.1111,0],[6.0235,7.0000,0,-4.1561]]\n",
        "b = [17.102,-6.1593,3.0004,0.0000]\n",
        "L,U = descomposicion_LU(A)\n",
        "print(\"\\nMatriz L:\\n\",L)\n",
        "print(\"\\nMatriz U:\\n\",U)\n",
        "y = eliminacion_gaussiana_L(L,b)\n",
        "print(\"\\nValor de y:\", y,\"\\n\")\n",
        "x = eliminacion_gaussiana_U(U,y)\n",
        "print(\"\\nValor de la solución x:\", x)"
      ]
    }
  ],
  "metadata": {
    "kernelspec": {
      "display_name": "Python 3 (ipykernel)",
      "language": "python",
      "name": "python3"
    },
    "language_info": {
      "codemirror_mode": {
        "name": "ipython",
        "version": 3
      },
      "file_extension": ".py",
      "mimetype": "text/x-python",
      "name": "python",
      "nbconvert_exporter": "python",
      "pygments_lexer": "ipython3",
      "version": "3.11.7"
    },
    "colab": {
      "provenance": []
    }
  },
  "nbformat": 4,
  "nbformat_minor": 5
}